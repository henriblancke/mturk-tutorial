{
 "cells": [
  {
   "cell_type": "markdown",
   "metadata": {
    "slideshow": {
     "slide_type": "slide"
    }
   },
   "source": [
    "![Minions](minions.png)"
   ]
  },
  {
   "cell_type": "markdown",
   "metadata": {
    "slideshow": {
     "slide_type": "slide"
    }
   },
   "source": [
    "# WHY???\n",
    "\n",
    "- Label 50,000 rows of data\n",
    "- Transcribe scans from my grandfathers journal\n",
    "- Copy texts from business cards\n",
    "- Draw 10,000 sheep ![sheep](sheep.png)\n",
    "- Translate SMS to English (\"CANT 2DAY 8 2 MUCH CU L8R\")\n",
    "- Solve CAPTCHA's\n",
    "- Get summaries or addresses web pages\n",
    "- Make human-machine hybrid centaurs!\n",
    "- Get complimented on your new haircut.\n",
    "- ..."
   ]
  },
  {
   "cell_type": "markdown",
   "metadata": {
    "slideshow": {
     "slide_type": "slide"
    }
   },
   "source": [
    "# Prerequisites\n",
    "\n",
    "1. `pip install boto`\n",
    "2. Use your Amazon / AWS account to log in at mturk.com\n",
    "3. Get the **root** access keys for your account.\n",
    "   1. Go to console.aws.amazon.com\n",
    "   2. Click on your name, choose _Security Credential_\n",
    "   3. Ignore subtle hints that you should set up IAM Users\n",
    "   4. Create a new Access Key and Secret\n",
    "   5. Store them in a file called `.aws`:\n",
    "      ```\n",
    "      [default]\n",
    "      aws_access_key_id = AKIA...\n",
    "      aws_secret_access_key = ...\n",
    "      ```\n",
    "4. Optionally, fund your account."
   ]
  },
  {
   "cell_type": "code",
   "execution_count": 12,
   "metadata": {
    "collapsed": false,
    "slideshow": {
     "slide_type": "slide"
    }
   },
   "outputs": [],
   "source": [
    "import ConfigParser as configparser  # Python 3: import configparser\n",
    "\n",
    "# Let's quickly get our credentials:\n",
    "parser = configparser.SafeConfigParser()\n",
    "parser.read(\".aws\")\n",
    "access_key = parser.get(\"default\", \"aws_access_key_id\")\n",
    "secret_key = parser.get(\"default\", \"aws_secret_access_key\")"
   ]
  },
  {
   "cell_type": "code",
   "execution_count": 13,
   "metadata": {
    "collapsed": false,
    "slideshow": {
     "slide_type": "fragment"
    }
   },
   "outputs": [],
   "source": [
    "from boto.mturk.connection import MTurkConnection\n",
    "\n",
    "MTURK_HOST = 'mechanicalturk.amazonaws.com'\n",
    "SANDBOX_HOST = 'mechanicalturk.sandbox.amazonaws.com'\n",
    "\n",
    "\n",
    "mturk = MTurkConnection(\n",
    "    aws_access_key_id=access_key,\n",
    "    aws_secret_access_key=secret_key,\n",
    "    host=SANDBOX_HOST\n",
    ")"
   ]
  },
  {
   "cell_type": "markdown",
   "metadata": {
    "slideshow": {
     "slide_type": "slide"
    }
   },
   "source": [
    "How to piece things together:\n",
    "\n",
    "![structure](structure.png)"
   ]
  },
  {
   "cell_type": "markdown",
   "metadata": {
    "slideshow": {
     "slide_type": "slide"
    }
   },
   "source": [
    "![Matryoshka](matryoshka.jpeg)"
   ]
  },
  {
   "cell_type": "code",
   "execution_count": 101,
   "metadata": {
    "collapsed": true,
    "slideshow": {
     "slide_type": "slide"
    }
   },
   "outputs": [],
   "source": [
    "from boto.mturk.question import QuestionForm, Question, QuestionContent, AnswerSpecification, SelectionAnswer"
   ]
  },
  {
   "cell_type": "code",
   "execution_count": 40,
   "metadata": {
    "collapsed": true,
    "slideshow": {
     "slide_type": "fragment"
    }
   },
   "outputs": [],
   "source": [
    "# Let's do things bottom-up!\n",
    "\n",
    "choices = (\n",
    "    \"An Animal\",\n",
    "    \"Something Technical (or a book about technical things)\",\n",
    "    \"Something entirely different\"\n",
    ")\n",
    "\n",
    "answers = SelectionAnswer(\n",
    "    style=\"radiobutton\",\n",
    "    selections=choices,\n",
    "    type=\"text\",\n",
    "    other=False\n",
    ")\n",
    "\n",
    "answer_spec = AnswerSpecification(answers)"
   ]
  },
  {
   "cell_type": "code",
   "execution_count": 126,
   "metadata": {
    "collapsed": false,
    "slideshow": {
     "slide_type": "fragment"
    }
   },
   "outputs": [],
   "source": [
    "content = QuestionContent()\n",
    "content.append_field(\"Title\", \"What do you see in this image?\")"
   ]
  },
  {
   "cell_type": "code",
   "execution_count": 127,
   "metadata": {
    "collapsed": true,
    "slideshow": {
     "slide_type": "fragment"
    }
   },
   "outputs": [],
   "source": [
    "content.append(FormattedContent(\"<img src='...' />\"))"
   ]
  },
  {
   "cell_type": "code",
   "execution_count": 128,
   "metadata": {
    "collapsed": true,
    "slideshow": {
     "slide_type": "fragment"
    }
   },
   "outputs": [],
   "source": [
    "question = Question(identifier=1, content=content, answer_spec=answer_spec)\n",
    "form = QuestionForm([question])"
   ]
  },
  {
   "cell_type": "markdown",
   "metadata": {
    "slideshow": {
     "slide_type": "slide"
    }
   },
   "source": [
    "## We need to put our images somewhere."
   ]
  },
  {
   "cell_type": "code",
   "execution_count": 20,
   "metadata": {
    "collapsed": false,
    "slideshow": {
     "slide_type": "fragment"
    }
   },
   "outputs": [],
   "source": [
    "from boto.s3.connection import S3Connection\n",
    "\n",
    "s3 = S3Connection(access_key, secret_key)\n",
    "bucket = s3.create_bucket(\"pythonimages\")"
   ]
  },
  {
   "cell_type": "markdown",
   "metadata": {
    "slideshow": {
     "slide_type": "fragment"
    }
   },
   "source": [
    "On AWS, configure the bucket policy to allow public access:\n",
    "\n",
    "![Policy](policy.png)"
   ]
  },
  {
   "cell_type": "markdown",
   "metadata": {
    "slideshow": {
     "slide_type": "notes"
    }
   },
   "source": [
    "```\n",
    "{\n",
    "\t\"Version\": \"2008-10-17\",\n",
    "\t\"Statement\": [\n",
    "\t\t{\n",
    "\t\t\t\"Sid\": \"AllowPublicRead\",\n",
    "\t\t\t\"Effect\": \"Allow\",\n",
    "\t\t\t\"Principal\": {\n",
    "\t\t\t\t\"AWS\": \"*\"\n",
    "\t\t\t},\n",
    "\t\t\t\"Action\": \"s3:GetObject\",\n",
    "\t\t\t\"Resource\": \"arn:aws:s3:::pythonimages/*\"\n",
    "\t\t}\n",
    "\t]\n",
    "}\n",
    "```"
   ]
  },
  {
   "cell_type": "code",
   "execution_count": 50,
   "metadata": {
    "collapsed": false,
    "slideshow": {
     "slide_type": "fragment"
    }
   },
   "outputs": [
    {
     "name": "stdout",
     "output_type": "stream",
     "text": [
      "http://pythonimages.s3.amazonaws.com/myfile\n"
     ]
    }
   ],
   "source": [
    "k = bucket.new_key(\"myfile\")\n",
    "k.set_contents_from_filename(\"img/1.jpeg\")\n",
    "print k.generate_url(expires_in=0, query_auth=False, force_http=True)"
   ]
  },
  {
   "cell_type": "markdown",
   "metadata": {
    "slideshow": {
     "slide_type": "slide"
    }
   },
   "source": [
    "## Glueing things together"
   ]
  },
  {
   "cell_type": "code",
   "execution_count": 99,
   "metadata": {
    "collapsed": false
   },
   "outputs": [],
   "source": [
    "def create_question(number):\n",
    "#    k = bucket.new_key(number)\n",
    "#    k.set_contents_from_filename(\"img/{}.jpeg\".format(number))\n",
    "#    url = k.generate_url(expires_in=0, query_auth=False, force_http=True)\n",
    "    url = 'http://pythonimages.s3.amazonaws.com/myfile'\n",
    "\n",
    "    choices = (\n",
    "        (\"An Animal\", 'animal'),\n",
    "        (\"Something Technical (or a book about technical things)\", 'tech'),\n",
    "        (\"Something entirely different\", 'other')\n",
    "    )\n",
    "\n",
    "    answers = SelectionAnswer(\n",
    "        style=\"radiobutton\",\n",
    "        selections=choices,\n",
    "        type=\"text\",\n",
    "        other=False\n",
    "    )\n",
    "\n",
    "    answer_spec = AnswerSpecification(answers)    \n",
    "    \n",
    "    content = QuestionContent()\n",
    "    content.append_field(\"Title\", \"What do you see in this image?\")\n",
    "    content.append(FormattedContent(\"<img src='{}' alt='python-related image' />\".format(url)))\n",
    "\n",
    "    question = Question(identifier=1, content=content, answer_spec=answer_spec)\n",
    "\n",
    "    form = QuestionForm([question])\n",
    "\n",
    "    return form\n"
   ]
  },
  {
   "cell_type": "code",
   "execution_count": 100,
   "metadata": {
    "collapsed": false,
    "slideshow": {
     "slide_type": "fragment"
    }
   },
   "outputs": [],
   "source": [
    "mturk.create_hit(\n",
    "    title=\"Categorise this image\",\n",
    "    question=create_question(1),\n",
    "    duration=3600,\n",
    "    reward=0.02\n",
    ")"
   ]
  },
  {
   "cell_type": "markdown",
   "metadata": {
    "slideshow": {
     "slide_type": "slide"
    }
   },
   "source": [
    "# And now, we wait."
   ]
  },
  {
   "cell_type": "markdown",
   "metadata": {
    "slideshow": {
     "slide_type": "fragment"
    }
   },
   "source": [
    "## Wait, we're still in sandbox mode."
   ]
  },
  {
   "cell_type": "markdown",
   "metadata": {
    "slideshow": {
     "slide_type": "fragment"
    }
   },
   "source": [
    "Fuck sandbox mode. Let's spend money."
   ]
  },
  {
   "cell_type": "code",
   "execution_count": 111,
   "metadata": {
    "collapsed": false
   },
   "outputs": [],
   "source": [
    "mturk_for_real = MTurkConnection(\n",
    "    aws_access_key_id=access_key,\n",
    "    aws_secret_access_key=secret_key,\n",
    "    host=MTURK_HOST\n",
    ")\n",
    "\n",
    "submitted_hits = {}\n",
    "\n",
    "for image in range(1, 9):\n",
    "    result = mturk.create_hit(\n",
    "        title=\"Categorise this image\",\n",
    "        question=create_question(image),\n",
    "        duration=300,\n",
    "        reward=0.02\n",
    "    )\n",
    "    \n",
    "    submitted_hits[result[0].HITId] = image"
   ]
  },
  {
   "cell_type": "code",
   "execution_count": 118,
   "metadata": {
    "collapsed": false
   },
   "outputs": [],
   "source": [
    "print submitted_hits"
   ]
  },
  {
   "cell_type": "code",
   "execution_count": null,
   "metadata": {
    "collapsed": false
   },
   "outputs": [],
   "source": [
    "reviewable_hits = mturk.get_reviewable_hits()\n",
    "print(\"Found {} Hits!\".format(len(reviewable_hits)))\n",
    "\n",
    "result = {}"
   ]
  },
  {
   "cell_type": "code",
   "execution_count": 122,
   "metadata": {
    "collapsed": false
   },
   "outputs": [],
   "source": [
    "for hit in reviewable_hits:\n",
    "    if hit.HITId in submitted_hits:\n",
    "        image = submitted_hits[hit.HITId]\n",
    "        print(\"Reviewing HIT {} for image {}\")\n",
    "        # A hit may have several assignments!\n",
    "        for assignment in mturk.get_assignments(hit.HITId):\n",
    "            # An assignment may have several questions.\n",
    "            for answer in assignment.answers[0]:\n",
    "                # A question may have several answers (eg. checkboxes)\n",
    "                result[image] = answer.fields[0]\n",
    "\n",
    "                # Make sure your minions get paid\n",
    "        mturk.approve_assignment(assignment.AssignmentId)"
   ]
  },
  {
   "cell_type": "code",
   "execution_count": 123,
   "metadata": {
    "collapsed": false
   },
   "outputs": [
    {
     "name": "stdout",
     "output_type": "stream",
     "text": [
      "{}\n"
     ]
    }
   ],
   "source": [
    "print result"
   ]
  }
 ],
 "metadata": {
  "celltoolbar": "Slideshow",
  "kernelspec": {
   "display_name": "Python 2",
   "language": "python",
   "name": "python2"
  },
  "language_info": {
   "codemirror_mode": {
    "name": "ipython",
    "version": 2
   },
   "file_extension": ".py",
   "mimetype": "text/x-python",
   "name": "python",
   "nbconvert_exporter": "python",
   "pygments_lexer": "ipython2",
   "version": "2.7.10"
  }
 },
 "nbformat": 4,
 "nbformat_minor": 0
}
